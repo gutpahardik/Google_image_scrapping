{
 "cells": [
  {
   "cell_type": "code",
   "execution_count": 61,
   "id": "a67a9ffb-af4a-4225-8a56-aecd32b32019",
   "metadata": {},
   "outputs": [],
   "source": [
    "import requests\n",
    "from bs4 import BeautifulSoup\n",
    "from urllib.request import urlopen as uReq\n",
    "import logging\n",
    "import os "
   ]
  },
  {
   "cell_type": "code",
   "execution_count": 63,
   "id": "7b746229-7083-4cf1-af18-d9e1144e0f88",
   "metadata": {},
   "outputs": [],
   "source": [
    "save_dir = \"images/\"\n",
    "if not os.path.exists(save_dir):\n",
    "    os.makedirs(save_dir)"
   ]
  },
  {
   "cell_type": "code",
   "execution_count": 65,
   "id": "c3e68984-c239-48e7-8793-0f01f7127a3b",
   "metadata": {},
   "outputs": [],
   "source": [
    "headers = {\"User-Agent\" :\"Mozills/5.0(windows NT 10.0;Win64; x64) AppleWebkit/537.36(KHTML,like Gecko) Chrome/58.0.3029.110 Safari/537.55\"}"
   ]
  },
  {
   "cell_type": "code",
   "execution_count": 67,
   "id": "17684739-329f-40c9-b0a4-fb215a7123f6",
   "metadata": {},
   "outputs": [],
   "source": [
    "query = \"Ms Dhoni\"\n",
    "response = requests.get(f\"https://www.google.com/search?={query}sca_esv=e3144f6254eef5eb&q=abdul+kalam&udm=2&fbs=ABzOT_CWdhQLP1FcmU5B0fn3xuWpA-dk4wpBWOGsoR7DG5zJBjLjqIC1CYKD9D-DQAQS3Z49oR1qp-GHVCzRMbvBmBq7dvB0LfFrS0yfdVu9QC41Fa058b320_ho3Zqz2R4qGNLtRyj5J_NX0zKAMbSab9pqhrnUKhCLJukddQ9ZsM2JUfK5dsuIH9sMU_Ho8-gWDVUyMBvvvnO9zQVTUyErM3s6zCTpqg&sa=X&sqi=2&ved=2ahUKEwikxtve2d6LAxXeoGMGHR11PTsQtKgLegQIChAB&biw=1422&bih=762&dpr=1.25\")"
   ]
  },
  {
   "cell_type": "code",
   "execution_count": 68,
   "id": "64b0e39f-307c-4088-8807-7ce2eda12909",
   "metadata": {},
   "outputs": [
    {
     "name": "stdout",
     "output_type": "stream",
     "text": [
      "<Response [200]>\n"
     ]
    }
   ],
   "source": [
    "print(response)"
   ]
  },
  {
   "cell_type": "code",
   "execution_count": 69,
   "id": "1befb11b-8e86-426b-a98b-716afa4230ee",
   "metadata": {},
   "outputs": [],
   "source": [
    "Soup = BeautifulSoup(response.content, 'html.parser')"
   ]
  },
  {
   "cell_type": "code",
   "execution_count": 70,
   "id": "f8bf9dd5-d268-4c68-9187-a14b851052e4",
   "metadata": {},
   "outputs": [
    {
     "data": {
      "text/plain": [
       "<!DOCTYPE html PUBLIC \"-//WAPFORUM//DTD XHTML Mobile 1.0//EN\" \"http://www.wapforum.org/DTD/xhtml-mobile10.dtd\">\n",
       "<html lang=\"en-IN\" xmlns=\"http://www.w3.org/1999/xhtml\"><head><meta content=\"application/xhtml+xml; charset=utf-8\" http-equiv=\"Content-Type\"/><meta content=\"no-cache\" name=\"Cache-Control\"/><title>abdul kalam - Google Search</title><style>a{text-decoration:none;color:inherit}a:hover{text-decoration:underline}a img{border:0}body{font-family:sans-serif;padding:8px;margin:0 auto;max-width:700px;min-width:240px;}.FbhRzb{border-left:thin solid #dadce0;border-right:thin solid #dadce0;border-top:thin solid #dadce0;height:40px;overflow:hidden}.n692Zd{margin-bottom:10px}.cvifge{height:40px;border-spacing:0}.QvGUP{height:40px;padding:0 8px 0 8px;vertical-align:top}.O4cRJf{height:40px;width:100%;padding:0;padding-right:14px}.O1ePr{height:40px;padding:0;vertical-align:top}.kgJEQe{height:36px;width:98px;vertical-align:top;margin-top:4px}.lXLRf{vertical-align:top}.MhzMZd{border:0;vertical-align:middle;font-size:14px;height:40px;padding:0;width:100%;padding-left:14px}.xB0fq{height:40px;border:none;font-size:14px;background-color:#1a73e8;color:#fff;padding:0 14px;margin:0;vertical-align:top;cursor:pointer}.xB0fq:focus{border:1px solid #1a73e8}.M7pB2{border:thin solid #dadce0;margin:0 0 3px 0;font-size:13px;font-weight:500;height:40px}.euZec{width:100%;height:40px;text-align:center;border-spacing:0}table.euZec td{padding:0;width:25%}.QIqI7{display:inline-block;padding-top:4px;font-weight:bold;color:#4285f4}.EY24We{border-bottom:2px solid #4285f4}.CsQyDc{display:inline-block;color:#70757a}.TuS8Ad{font-size:14px}.HddGcc{padding:8px;color:#70757a}.dzp8ae{font-weight:bold;color:#3c4043}.rEM8G{color:#70757a}.bookcf{table-layout:fixed;width:100%;border-spacing:0}.InWNIe{text-align:center}.uZgmoc{border:thin solid #dadce0;color:#70757a;font-size:14px;text-align:center;table-layout:fixed;width:100%}.frGj1b{display:block;padding:16px 0 12px 0;width:100%}.BnJWBc{text-align:center;padding:6px 0 13px 0;height:35px}.e3goi{vertical-align:top;padding:0;height:180px}.GpQGbf{margin:auto;border-collapse:collapse;border-spacing:0;width:100%}</style></head><body><style>.X6ZCif{color:#202124;font-size:11px;line-height:16px;display:inline-block;padding-top:2px;overflow:hidden;padding-bottom:4px;width:100%}.TwVfHd{border-radius:16px;border:thin solid #dadce0;display:inline-block;padding:8px 8px;margin-right:8px;margin-bottom:4px}.yekiAe{background-color:#dadce0}.jjVJ4e{width:100%}.ezO2md{border:thin solid #dadce0;padding:16px 14px 12px 14px;margin-bottom:10px;font-family:sans-serif}.lIMUZd{font-family:sans-serif}.RntSmf{border-spacing:0}.lgD2Tc{width:100%}.SpelHe{text-align:center}.SpelHe{position:relative}.kCmkOe{position:relative}.kCmkOe{width:162px;height:140px;line-height:140px;overflow:'hidden';text-align:center}.DS1iW{text-align:center;margin:auto;vertical-align:middle;max-width:162px;max-height:140px}.AlD19d{padding-top:2px;padding-bottom:8px;}.fYyStc{word-break:break-word}.ynsChf{display:block;white-space:nowrap;overflow:hidden;text-overflow:ellipsis}.Fj3V3b{color:#1967d2;font-size:14px;line-height:20px}.FrIlee{color:#202124;font-size:11px;line-height:16px}.F9iS2e{color:#70757a;font-size:11px;line-height:16px}.WMQ2Le{color:#70757a;font-size:12px;line-height:16px}.x3G5ab{color:#202124;font-size:12px;line-height:16px}.fuLhoc{color:#1967d2;font-size:16px;line-height:20px}.epoveb{font-size:24px;line-height:28px;font-weight:400;color:#202124}.dXDvrc{color:#0d652d;font-size:14px;line-height:20px;word-wrap:break-word}.dloBPe{font-weight:bold}.YVIcad{color:#70757a}.JkVVdd{color:#ea4335}.oXZRFd{color:#ea4335}.MQHtg{color:#fbbc04}.pyMRrb{color:#1e8e3e}.EtTZid{color:#1e8e3e}.M3vVJe{color:#1967d2}.qXLe6d{display:block}.NHQNef{font-style:italic}.Cb8Z7c{white-space:pre}a.ZWRArf{text-decoration:none}a .CVA68e:hover{text-decoration:underline}</style><div class=\"n692Zd\"><div class=\"BnJWBc\"><a class=\"lXLRf\" href=\"/?sa=X&amp;sca_esv=e3144f6254eef5eb&amp;biw=1422&amp;bih=762&amp;output=images&amp;ie=UTF-8&amp;tbm=isch&amp;ved=0ahUKEwjHoYrx496LAxWEwjgGHcueCVgQPAgC\"><img alt=\"Google\" class=\"kgJEQe\" src=\"/images/branding/searchlogo/1x/googlelogo_desk_heirloom_color_150x55dp.gif\"/></a></div><div class=\"FbhRzb\"><form action=\"/search\"><input name=\"sca_esv\" type=\"hidden\" value=\"e3144f6254eef5eb\"/><input name=\"biw\" type=\"hidden\" value=\"1422\"/><input name=\"bih\" type=\"hidden\" value=\"762\"/><input name=\"ie\" type=\"hidden\" value=\"ISO-8859-1\"/><input name=\"tbm\" type=\"hidden\" value=\"isch\"/><input name=\"oq\" type=\"hidden\"/><input name=\"aqs\" type=\"hidden\"/><table class=\"cvifge\"><tr><td class=\"O4cRJf\"><input class=\"MhzMZd\" name=\"q\" type=\"text\" value=\"abdul kalam\"/></td><td class=\"O1ePr\"><input class=\"xB0fq\" type=\"submit\" value=\"Search\"/></td></tr></table></form></div><div class=\"M7pB2\"><table class=\"euZec\"><tbody><tr><td><a class=\"CsQyDc\" href=\"/search?q=abdul+kalam&amp;sca_esv=e3144f6254eef5eb&amp;biw=1422&amp;bih=762&amp;ie=UTF-8&amp;source=lnms&amp;fbs=ABzOT_CWdhQLP1FcmU5B0fn3xuWpA-dk4wpBWOGsoR7DG5zJBjLjqIC1CYKD9D-DQAQS3Z49oR1qp-GHVCzRMbvBmBq7dvB0LfFrS0yfdVu9QC41Fa058b320_ho3Zqz2R4qGNLtRyj5J_NX0zKAMbSab9pqhrnUKhCLJukddQ9ZsM2JUfK5dsuIH9sMU_Ho8-gWDVUyMBvvvnO9zQVTUyErM3s6zCTpqg&amp;sa=X&amp;ved=0ahUKEwjHoYrx496LAxWEwjgGHcueCVgQ_AUIBCgA\">ALL</a></td><td class=\"EY24We\"><span class=\"QIqI7\">IMAGES</span></td><td><a class=\"CsQyDc\" href=\"/search?q=abdul+kalam&amp;sca_esv=e3144f6254eef5eb&amp;biw=1422&amp;bih=762&amp;ie=UTF-8&amp;udm=36&amp;source=lnms&amp;fbs=ABzOT_CWdhQLP1FcmU5B0fn3xuWpA-dk4wpBWOGsoR7DG5zJBjLjqIC1CYKD9D-DQAQS3Z49oR1qp-GHVCzRMbvBmBq7dvB0LfFrS0yfdVu9QC41Fa058b320_ho3Zqz2R4qGNLtRyj5J_NX0zKAMbSab9pqhrnUKhCLJukddQ9ZsM2JUfK5dsuIH9sMU_Ho8-gWDVUyMBvvvnO9zQVTUyErM3s6zCTpqg&amp;sa=X&amp;ved=0ahUKEwjHoYrx496LAxWEwjgGHcueCVgQ_AUIBigC\">BOOKS</a></td><td><a class=\"CsQyDc\" href=\"/search?q=abdul+kalam&amp;sca_esv=e3144f6254eef5eb&amp;biw=1422&amp;bih=762&amp;ie=UTF-8&amp;tbm=nws&amp;source=lnms&amp;fbs=ABzOT_CWdhQLP1FcmU5B0fn3xuWpA-dk4wpBWOGsoR7DG5zJBjLjqIC1CYKD9D-DQAQS3Z49oR1qp-GHVCzRMbvBmBq7dvB0LfFrS0yfdVu9QC41Fa058b320_ho3Zqz2R4qGNLtRyj5J_NX0zKAMbSab9pqhrnUKhCLJukddQ9ZsM2JUfK5dsuIH9sMU_Ho8-gWDVUyMBvvvnO9zQVTUyErM3s6zCTpqg&amp;sa=X&amp;ved=0ahUKEwjHoYrx496LAxWEwjgGHcueCVgQ_AUIBygD\">NEWS</a></td></tr></tbody></table></div></div><div><table class=\"GpQGbf\"><tr><td align=\"center\" class=\"e3goi\"><div class=\"jjVJ4e\"> <div> <div class=\"lIMUZd\"><div><table class=\"RntSmf\"><tr><td><a href=\"/url?q=https://en.wikipedia.org/wiki/A._P._J._Abdul_Kalam&amp;sa=U&amp;ved=2ahUKEwjHoYrx496LAxWEwjgGHcueCVgQqoUBegQIBBAB&amp;usg=AOvVaw3Lm8rNOnSB7u_XhfY_pOdv\"><div class=\"kCmkOe\"><img alt=\"\" class=\"DS1iW\" src=\"https://encrypted-tbn0.gstatic.com/images?q=tbn:ANd9GcRDXRrCQ0br3vCtvoFxCGpIeQGuCUH7WfjlRdOrA5bHxxzi0_43wUxK3zRo7Ao&amp;s\"/></div></a></td></tr><tr><td><a href=\"/url?q=https://en.wikipedia.org/wiki/A._P._J._Abdul_Kalam&amp;sa=U&amp;ved=2ahUKEwjHoYrx496LAxWEwjgGHcueCVgQr4kDegQIBBAC&amp;usg=AOvVaw2k9jbPSxksXQsW_Bx1hSga\"><div class=\"AlD19d\"> <span class=\"qXLe6d x3G5ab\"> <span class=\"fYyStc\">A. P. J. Abdul Kalam -...</span> </span> <span class=\"qXLe6d F9iS2e\"> <span class=\"fYyStc\">en.wikipedia.org</span> </span> </div></a></td></tr></table></div></div> </div> </div></td><td align=\"center\" class=\"e3goi\"><div class=\"jjVJ4e\"> <div> <div class=\"lIMUZd\"><div><table class=\"RntSmf\"><tr><td><a href=\"/url?q=https://kashmirobserver.net/2020/07/27/remembering-dr-a-p-j-abdul-kalam/&amp;sa=U&amp;ved=2ahUKEwjHoYrx496LAxWEwjgGHcueCVgQqoUBegQIExAB&amp;usg=AOvVaw1WWtcyGFja_aFUL7pDoKjv\"><div class=\"kCmkOe\"><img alt=\"\" class=\"DS1iW\" src=\"https://encrypted-tbn0.gstatic.com/images?q=tbn:ANd9GcRPIzGFtphhj0Sm1AzNYZXe91pAlkea88NpFvVB2FQihZF4TbYdBfiWdb8-UQ&amp;s\"/></div></a></td></tr><tr><td><a href=\"/url?q=https://kashmirobserver.net/2020/07/27/remembering-dr-a-p-j-abdul-kalam/&amp;sa=U&amp;ved=2ahUKEwjHoYrx496LAxWEwjgGHcueCVgQr4kDegQIExAC&amp;usg=AOvVaw3zfiDsyldrv1r_7_dvmbnT\"><div class=\"AlD19d\"> <span class=\"qXLe6d x3G5ab\"> <span class=\"fYyStc\">Remembering Dr A.P.J Abdul...</span> </span> <span class=\"qXLe6d F9iS2e\"> <span class=\"fYyStc\">kashmirobserver.net</span> </span> </div></a></td></tr></table></div></div> </div> </div></td><td align=\"center\" class=\"e3goi\"><div class=\"jjVJ4e\"> <div> <div class=\"lIMUZd\"><div><table class=\"RntSmf\"><tr><td><a href=\"/url?q=https://www.britannica.com/biography/A-P-J-Abdul-Kalam&amp;sa=U&amp;ved=2ahUKEwjHoYrx496LAxWEwjgGHcueCVgQqoUBegQIEhAB&amp;usg=AOvVaw1NeTR3gMI3HYDtRBTBksXc\"><div class=\"kCmkOe\"><img alt=\"\" class=\"DS1iW\" src=\"https://encrypted-tbn0.gstatic.com/images?q=tbn:ANd9GcTNluG8RYbAkc9DDoEIJa5R0dW5VG9LjQdk7PDhJN6GzNTJ3zjUmrO_LodkpQ&amp;s\"/></div></a></td></tr><tr><td><a href=\"/url?q=https://www.britannica.com/biography/A-P-J-Abdul-Kalam&amp;sa=U&amp;ved=2ahUKEwjHoYrx496LAxWEwjgGHcueCVgQr4kDegQIEhAC&amp;usg=AOvVaw3YRsquodVQW5gzjgsPnbJR\"><div class=\"AlD19d\"> <span class=\"qXLe6d x3G5ab\"> <span class=\"fYyStc\">A.P.J. Abdul Kalam |...</span> </span> <span class=\"qXLe6d F9iS2e\"> <span class=\"fYyStc\">www.britannica.com</span> </span> </div></a></td></tr></table></div></div> </div> </div></td><td align=\"center\" class=\"e3goi\"><div class=\"jjVJ4e\"> <div> <div class=\"lIMUZd\"><div><table class=\"RntSmf\"><tr><td><a href=\"/url?q=https://gosharpener.com/blogs/505009/Dr-APJ-Abdul-Kalam&amp;sa=U&amp;ved=2ahUKEwjHoYrx496LAxWEwjgGHcueCVgQqoUBegQIERAB&amp;usg=AOvVaw37cnZRtmmTMbgFFdi7JulN\"><div class=\"kCmkOe\"><img alt=\"\" class=\"DS1iW\" src=\"https://encrypted-tbn0.gstatic.com/images?q=tbn:ANd9GcQEOKlSNp1m5Q5vzEECkAzgZ32iVo7dKhyM27qFdd7Gk_XRr2rEMg63Qt60EVE&amp;s\"/></div></a></td></tr><tr><td><a href=\"/url?q=https://gosharpener.com/blogs/505009/Dr-APJ-Abdul-Kalam&amp;sa=U&amp;ved=2ahUKEwjHoYrx496LAxWEwjgGHcueCVgQr4kDegQIERAC&amp;usg=AOvVaw198YfSkmBaK29U9QK70iGy\"><div class=\"AlD19d\"> <span class=\"qXLe6d x3G5ab\"> <span class=\"fYyStc\">sngine_d789172177a31e6918fa...</span> </span> <span class=\"qXLe6d F9iS2e\"> <span class=\"fYyStc\">gosharpener.com</span> </span> </div></a></td></tr></table></div></div> </div> </div></td></tr><tr><td align=\"center\" class=\"e3goi\"><div class=\"jjVJ4e\"> <div> <div class=\"lIMUZd\"><div><table class=\"RntSmf\"><tr><td><a href=\"/url?q=https://en.wikipedia.org/wiki/Dr._A._P._J._Abdul_Kalam_Road&amp;sa=U&amp;ved=2ahUKEwjHoYrx496LAxWEwjgGHcueCVgQqoUBegQIDxAB&amp;usg=AOvVaw1KxdxPInyD8Jk4URkz88UE\"><div class=\"kCmkOe\"><img alt=\"\" class=\"DS1iW\" src=\"https://encrypted-tbn0.gstatic.com/images?q=tbn:ANd9GcSIc7kqbQllG6CZiouCspe3taqlCS3FGgBilBTqBqPQSsFjdc3prke97Mk_AA&amp;s\"/></div></a></td></tr><tr><td><a href=\"/url?q=https://en.wikipedia.org/wiki/Dr._A._P._J._Abdul_Kalam_Road&amp;sa=U&amp;ved=2ahUKEwjHoYrx496LAxWEwjgGHcueCVgQr4kDegQIDxAC&amp;usg=AOvVaw03y6UO1DZR3QeaOrhH0N_X\"><div class=\"AlD19d\"> <span class=\"qXLe6d x3G5ab\"> <span class=\"fYyStc\">Dr. A. P. J. Abdul Kalam...</span> </span> <span class=\"qXLe6d F9iS2e\"> <span class=\"fYyStc\">en.wikipedia.org</span> </span> </div></a></td></tr></table></div></div> </div> </div></td><td align=\"center\" class=\"e3goi\"><div class=\"jjVJ4e\"> <div> <div class=\"lIMUZd\"><div><table class=\"RntSmf\"><tr><td><a href=\"/url?q=https://apeejay.news/remembering-dr-apj-abdul-kalam-indias-missile-man-as-well-as-an-eternal-student/&amp;sa=U&amp;ved=2ahUKEwjHoYrx496LAxWEwjgGHcueCVgQqoUBegQIDhAB&amp;usg=AOvVaw3kawJJ1vZpwVE-jl2FOnT4\"><div class=\"kCmkOe\"><img alt=\"\" class=\"DS1iW\" src=\"https://encrypted-tbn0.gstatic.com/images?q=tbn:ANd9GcReXtERZQnXdqjWRWvoOely0JusVMYBnzkfQmtOo4KcyeX1mCC9dMqFCLnfkcw&amp;s\"/></div></a></td></tr><tr><td><a href=\"/url?q=https://apeejay.news/remembering-dr-apj-abdul-kalam-indias-missile-man-as-well-as-an-eternal-student/&amp;sa=U&amp;ved=2ahUKEwjHoYrx496LAxWEwjgGHcueCVgQr4kDegQIDhAC&amp;usg=AOvVaw1BovWIs_5yuBbFpva-_nch\"><div class=\"AlD19d\"> <span class=\"qXLe6d x3G5ab\"> <span class=\"fYyStc\">Remembering Dr. APJ Abdul...</span> </span> <span class=\"qXLe6d F9iS2e\"> <span class=\"fYyStc\">apeejay.news</span> </span> </div></a></td></tr></table></div></div> </div> </div></td><td align=\"center\" class=\"e3goi\"><div class=\"jjVJ4e\"> <div> <div class=\"lIMUZd\"><div><table class=\"RntSmf\"><tr><td><a href=\"/url?q=https://www.amazon.in/Pride-Nation-P-J-Abdul-Kalam-ebook/dp/B017TPE8A6&amp;sa=U&amp;ved=2ahUKEwjHoYrx496LAxWEwjgGHcueCVgQqoUBegQIDRAB&amp;usg=AOvVaw1yD3qEyqkMgC7IdxWpHjkn\"><div class=\"kCmkOe\"><img alt=\"\" class=\"DS1iW\" src=\"https://encrypted-tbn0.gstatic.com/images?q=tbn:ANd9GcTumc9Fkjm87t1eiuFilXTFJ4xU_aXAZlQ3vK4F1TmQZhfTY-mkmYeYJUl6abc&amp;s\"/></div></a></td></tr><tr><td><a href=\"/url?q=https://www.amazon.in/Pride-Nation-P-J-Abdul-Kalam-ebook/dp/B017TPE8A6&amp;sa=U&amp;ved=2ahUKEwjHoYrx496LAxWEwjgGHcueCVgQr4kDegQIDRAC&amp;usg=AOvVaw2DIAYixYmFRwZCGMBDVptW\"><div class=\"AlD19d\"> <span class=\"qXLe6d x3G5ab\"> <span class=\"fYyStc\">61SiIzgEvyL._UF1000,1000_QL...</span> </span> <span class=\"qXLe6d F9iS2e\"> <span class=\"fYyStc\">www.amazon.in</span> </span> </div></a></td></tr></table></div></div> </div> </div></td><td align=\"center\" class=\"e3goi\"><div class=\"jjVJ4e\"> <div> <div class=\"lIMUZd\"><div><table class=\"RntSmf\"><tr><td><a href=\"/url?q=https://www.britannica.com/biography/A-P-J-Abdul-Kalam&amp;sa=U&amp;ved=2ahUKEwjHoYrx496LAxWEwjgGHcueCVgQqoUBegQIDBAB&amp;usg=AOvVaw0_wCZcmxzkeX8R1kzuJOGX\"><div class=\"kCmkOe\"><img alt=\"\" class=\"DS1iW\" src=\"https://encrypted-tbn0.gstatic.com/images?q=tbn:ANd9GcRmwxHSTRRio5VQ08CSZenf0XHHxbHIxOXAZNCzMg_x8RbRgifCbPsgeIKlVA&amp;s\"/></div></a></td></tr><tr><td><a href=\"/url?q=https://www.britannica.com/biography/A-P-J-Abdul-Kalam&amp;sa=U&amp;ved=2ahUKEwjHoYrx496LAxWEwjgGHcueCVgQr4kDegQIDBAC&amp;usg=AOvVaw2dKT50tSbu-YQG6WDasvJR\"><div class=\"AlD19d\"> <span class=\"qXLe6d x3G5ab\"> <span class=\"fYyStc\">A.P.J. Abdul Kalam |...</span> </span> <span class=\"qXLe6d F9iS2e\"> <span class=\"fYyStc\">www.britannica.com</span> </span> </div></a></td></tr></table></div></div> </div> </div></td></tr><tr><td align=\"center\" class=\"e3goi\"><div class=\"jjVJ4e\"> <div> <div class=\"lIMUZd\"><div><table class=\"RntSmf\"><tr><td><a href=\"/url?q=https://www.ciol.com/news/dr-apj-abdul-kalam-from-rocket-man-to-peoples-president-7315751&amp;sa=U&amp;ved=2ahUKEwjHoYrx496LAxWEwjgGHcueCVgQqoUBegQIEBAB&amp;usg=AOvVaw2x3sIWkgJFDySHzgUDtxfe\"><div class=\"kCmkOe\"><img alt=\"\" class=\"DS1iW\" src=\"https://encrypted-tbn0.gstatic.com/images?q=tbn:ANd9GcRjI2jmTAmdWDbHYA5iknUub82jRjD5XFpo3o1Oqjx5YjSyTQ3qtZxKc-hIbvo&amp;s\"/></div></a></td></tr><tr><td><a href=\"/url?q=https://www.ciol.com/news/dr-apj-abdul-kalam-from-rocket-man-to-peoples-president-7315751&amp;sa=U&amp;ved=2ahUKEwjHoYrx496LAxWEwjgGHcueCVgQr4kDegQIEBAC&amp;usg=AOvVaw32x3fAGfWPGmdWjagtQwoP\"><div class=\"AlD19d\"> <span class=\"qXLe6d x3G5ab\"> <span class=\"fYyStc\">Dr. APJ Abdul Kalam: From...</span> </span> <span class=\"qXLe6d F9iS2e\"> <span class=\"fYyStc\">www.ciol.com</span> </span> </div></a></td></tr></table></div></div> </div> </div></td><td align=\"center\" class=\"e3goi\"><div class=\"jjVJ4e\"> <div> <div class=\"lIMUZd\"><div><table class=\"RntSmf\"><tr><td><a href=\"/url?q=https://www.edupediapublications.org/2021/08/apj-abdul-kalam-biography-early-life.html&amp;sa=U&amp;ved=2ahUKEwjHoYrx496LAxWEwjgGHcueCVgQqoUBegQIChAB&amp;usg=AOvVaw09bNJmZOvD1PWgdcmvjyCA\"><div class=\"kCmkOe\"><img alt=\"\" class=\"DS1iW\" src=\"https://encrypted-tbn0.gstatic.com/images?q=tbn:ANd9GcTL6n37MEBVh31hBt9vp_P6rarW4FvUZLWWzVCqNF6s4py2gP3pWvfYgpM6wQ&amp;s\"/></div></a></td></tr><tr><td><a href=\"/url?q=https://www.edupediapublications.org/2021/08/apj-abdul-kalam-biography-early-life.html&amp;sa=U&amp;ved=2ahUKEwjHoYrx496LAxWEwjgGHcueCVgQr4kDegQIChAC&amp;usg=AOvVaw3YM3SeuqkPMUIwSIWOZ8jg\"><div class=\"AlD19d\"> <span class=\"qXLe6d x3G5ab\"> <span class=\"fYyStc\">A.P.J. Abdul Kalam...</span> </span> <span class=\"qXLe6d F9iS2e\"> <span class=\"fYyStc\">www.edupediapublications.or...</span> </span> </div></a></td></tr></table></div></div> </div> </div></td><td align=\"center\" class=\"e3goi\"><div class=\"jjVJ4e\"> <div> <div class=\"lIMUZd\"><div><table class=\"RntSmf\"><tr><td><a href=\"/url?q=https://www.drishtiias.com/daily-updates/daily-news-analysis/dr-a-p-j-abdul-kalam&amp;sa=U&amp;ved=2ahUKEwjHoYrx496LAxWEwjgGHcueCVgQqoUBegQICxAB&amp;usg=AOvVaw3GGBlY-ZpYfTvZmKCtqoI_\"><div class=\"kCmkOe\"><img alt=\"\" class=\"DS1iW\" src=\"https://encrypted-tbn0.gstatic.com/images?q=tbn:ANd9GcTg-5KlG1TWsl-BN-kL8rIjT5soVIrCCB786XWG4npfXADL3rTQIKAEXlrFWBU&amp;s\"/></div></a></td></tr><tr><td><a href=\"/url?q=https://www.drishtiias.com/daily-updates/daily-news-analysis/dr-a-p-j-abdul-kalam&amp;sa=U&amp;ved=2ahUKEwjHoYrx496LAxWEwjgGHcueCVgQr4kDegQICxAC&amp;usg=AOvVaw2pLCcRsQqV5DGb4641rnQN\"><div class=\"AlD19d\"> <span class=\"qXLe6d x3G5ab\"> <span class=\"fYyStc\">Dr A. P. J. Abdul Kalam</span> </span> <span class=\"qXLe6d F9iS2e\"> <span class=\"fYyStc\">www.drishtiias.com</span> </span> </div></a></td></tr></table></div></div> </div> </div></td><td align=\"center\" class=\"e3goi\"><div class=\"jjVJ4e\"> <div> <div class=\"lIMUZd\"><div><table class=\"RntSmf\"><tr><td><a href=\"/url?q=https://www.frontlist.in/authors/profile-of-dr-apj-abdul-kalam&amp;sa=U&amp;ved=2ahUKEwjHoYrx496LAxWEwjgGHcueCVgQqoUBegQICRAB&amp;usg=AOvVaw2Nt-M1Pk6jAC-z-ihrGAS6\"><div class=\"kCmkOe\"><img alt=\"\" class=\"DS1iW\" src=\"https://encrypted-tbn0.gstatic.com/images?q=tbn:ANd9GcTiWH4pPKt6Ob4oRAAjO6OkU24XkZ0im6GoWszQgqyY0gTpuS-a7buU2cm2_sc&amp;s\"/></div></a></td></tr><tr><td><a href=\"/url?q=https://www.frontlist.in/authors/profile-of-dr-apj-abdul-kalam&amp;sa=U&amp;ved=2ahUKEwjHoYrx496LAxWEwjgGHcueCVgQr4kDegQICRAC&amp;usg=AOvVaw2WGKUe2YcIdKU3eAsj7qkk\"><div class=\"AlD19d\"> <span class=\"qXLe6d x3G5ab\"> <span class=\"fYyStc\">Profile of Dr. APJ Abdul...</span> </span> <span class=\"qXLe6d F9iS2e\"> <span class=\"fYyStc\">www.frontlist.in</span> </span> </div></a></td></tr></table></div></div> </div> </div></td></tr><tr><td align=\"center\" class=\"e3goi\"><div class=\"jjVJ4e\"> <div> <div class=\"lIMUZd\"><div><table class=\"RntSmf\"><tr><td><a href=\"/url?q=https://www.amazon.in/NUOSHOPPING-Abdul-hanging-8-5x11-APJ-0111/dp/B0C558L1LV&amp;sa=U&amp;ved=2ahUKEwjHoYrx496LAxWEwjgGHcueCVgQqoUBegQIBhAB&amp;usg=AOvVaw0hhDKmmM8LaGNNQIQjEWW-\"><div class=\"kCmkOe\"><img alt=\"\" class=\"DS1iW\" src=\"https://encrypted-tbn0.gstatic.com/images?q=tbn:ANd9GcQ8dR3PaF1Gvklilj4VFj_k3fYTvi_z4VaTYmyKu8v4-7_Q-DZa7xA06GaWWg&amp;s\"/></div></a></td></tr><tr><td><a href=\"/url?q=https://www.amazon.in/NUOSHOPPING-Abdul-hanging-8-5x11-APJ-0111/dp/B0C558L1LV&amp;sa=U&amp;ved=2ahUKEwjHoYrx496LAxWEwjgGHcueCVgQr4kDegQIBhAC&amp;usg=AOvVaw0hU-Wy-WEvFlmIPSNprG4m\"><div class=\"AlD19d\"> <span class=\"qXLe6d x3G5ab\"> <span class=\"fYyStc\">NUOSHOPPING D.r APJ Abdul...</span> </span> <span class=\"qXLe6d F9iS2e\"> <span class=\"fYyStc\">www.amazon.in</span> </span> </div></a></td></tr></table></div></div> </div> </div></td><td align=\"center\" class=\"e3goi\"><div class=\"jjVJ4e\"> <div> <div class=\"lIMUZd\"><div><table class=\"RntSmf\"><tr><td><a href=\"/url?q=https://www.thetalentedindian.com/remembering-the-missile-man-of-india-apj-abdul-kalam-on-his-88th-birth-anniversary/&amp;sa=U&amp;ved=2ahUKEwjHoYrx496LAxWEwjgGHcueCVgQqoUBegQIARAB&amp;usg=AOvVaw2cQXG-O1yYwkOoVQeW6pUU\"><div class=\"kCmkOe\"><img alt=\"\" class=\"DS1iW\" src=\"https://encrypted-tbn0.gstatic.com/images?q=tbn:ANd9GcRghHzmTebRHcmaCrdDFEfL4-zp0qqgdIu2IZpzD5Fl3-sZR5Z3XM6_fLZVlA4&amp;s\"/></div></a></td></tr><tr><td><a href=\"/url?q=https://www.thetalentedindian.com/remembering-the-missile-man-of-india-apj-abdul-kalam-on-his-88th-birth-anniversary/&amp;sa=U&amp;ved=2ahUKEwjHoYrx496LAxWEwjgGHcueCVgQr4kDegQIARAC&amp;usg=AOvVaw3jG_LmlrrS6E05xWYJjIYv\"><div class=\"AlD19d\"> <span class=\"qXLe6d x3G5ab\"> <span class=\"fYyStc\">Remembering the 'Missile...</span> </span> <span class=\"qXLe6d F9iS2e\"> <span class=\"fYyStc\">www.thetalentedindian.com</span> </span> </div></a></td></tr></table></div></div> </div> </div></td><td align=\"center\" class=\"e3goi\"><div class=\"jjVJ4e\"> <div> <div class=\"lIMUZd\"><div><table class=\"RntSmf\"><tr><td><a href=\"/url?q=https://www.facebook.com/MemoriesOfAPJ/%3Flocale%3Dmt_MT&amp;sa=U&amp;ved=2ahUKEwjHoYrx496LAxWEwjgGHcueCVgQqoUBegQIBxAB&amp;usg=AOvVaw2ExQB38Qbf8GH_FiQE2S5f\"><div class=\"kCmkOe\"><img alt=\"\" class=\"DS1iW\" src=\"https://encrypted-tbn0.gstatic.com/images?q=tbn:ANd9GcTtG5B_vYebPg7WMiHyzneTWh1qYWJ6A9ipxuFa7F7dZULvtO6jRVGzI947-Q&amp;s\"/></div></a></td></tr><tr><td><a href=\"/url?q=https://www.facebook.com/MemoriesOfAPJ/%3Flocale%3Dmt_MT&amp;sa=U&amp;ved=2ahUKEwjHoYrx496LAxWEwjgGHcueCVgQr4kDegQIBxAC&amp;usg=AOvVaw0iIC2R6QIzSkxG2qQhhb7M\"><div class=\"AlD19d\"> <span class=\"qXLe6d x3G5ab\"> <span class=\"fYyStc\">Memories Of APJ Abdul Kalam...</span> </span> <span class=\"qXLe6d F9iS2e\"> <span class=\"fYyStc\">www.facebook.com</span> </span> </div></a></td></tr></table></div></div> </div> </div></td><td align=\"center\" class=\"e3goi\"><div class=\"jjVJ4e\"> <div> <div class=\"lIMUZd\"><div><table class=\"RntSmf\"><tr><td><a href=\"/url?q=https://www.tallengestore.com/products/doctor-abdul-kalam-ex-president-of-india-rocketman-painting&amp;sa=U&amp;ved=2ahUKEwjHoYrx496LAxWEwjgGHcueCVgQqoUBegQIAxAB&amp;usg=AOvVaw0idNunyMKjVEQvgUCEiXRt\"><div class=\"kCmkOe\"><img alt=\"\" class=\"DS1iW\" src=\"https://encrypted-tbn0.gstatic.com/images?q=tbn:ANd9GcT2xBmbgMoOUWz-NWyMFK-Ahal9AOYnl_iFdL24CFccsgNke6waZS4tuumigJs&amp;s\"/></div></a></td></tr><tr><td><a href=\"/url?q=https://www.tallengestore.com/products/doctor-abdul-kalam-ex-president-of-india-rocketman-painting&amp;sa=U&amp;ved=2ahUKEwjHoYrx496LAxWEwjgGHcueCVgQr4kDegQIAxAC&amp;usg=AOvVaw3aEh13lFdI0_IAGv91GgrB\"><div class=\"AlD19d\"> <span class=\"qXLe6d x3G5ab\"> <span class=\"fYyStc\">Doctor Abdul Kalam -...</span> </span> <span class=\"qXLe6d F9iS2e\"> <span class=\"fYyStc\">www.tallengestore.com</span> </span> </div></a></td></tr></table></div></div> </div> </div></td></tr><tr><td align=\"center\" class=\"e3goi\"><div class=\"jjVJ4e\"> <div> <div class=\"lIMUZd\"><div><table class=\"RntSmf\"><tr><td><a href=\"/url?q=https://www.linkedin.com/pulse/life-lessons-dr-apj-abdul-kalam-rohan-lele&amp;sa=U&amp;ved=2ahUKEwjHoYrx496LAxWEwjgGHcueCVgQqoUBegQICBAB&amp;usg=AOvVaw3Td3k7EBcFfhq6YNkLU_bq\"><div class=\"kCmkOe\"><img alt=\"\" class=\"DS1iW\" src=\"https://encrypted-tbn0.gstatic.com/images?q=tbn:ANd9GcQdvYukh94xH_VjsfseQOHMCdESr9SzZWUVi76UfXwQ5Y1hJOHlAvhfyaEYmA&amp;s\"/></div></a></td></tr><tr><td><a href=\"/url?q=https://www.linkedin.com/pulse/life-lessons-dr-apj-abdul-kalam-rohan-lele&amp;sa=U&amp;ved=2ahUKEwjHoYrx496LAxWEwjgGHcueCVgQr4kDegQICBAC&amp;usg=AOvVaw16BXYCniQW42BLBgUgIRS8\"><div class=\"AlD19d\"> <span class=\"qXLe6d x3G5ab\"> <span class=\"fYyStc\">Life Lessons - Dr. APJ...</span> </span> <span class=\"qXLe6d F9iS2e\"> <span class=\"fYyStc\">www.linkedin.com</span> </span> </div></a></td></tr></table></div></div> </div> </div></td><td align=\"center\" class=\"e3goi\"><div class=\"jjVJ4e\"> <div> <div class=\"lIMUZd\"><div><table class=\"RntSmf\"><tr><td><a href=\"/url?q=https://www.aakash.ac.in/blog/a-p-j-abdul-kalam-biography-early-life-education-interest-achievements/&amp;sa=U&amp;ved=2ahUKEwjHoYrx496LAxWEwjgGHcueCVgQqoUBegQIBRAB&amp;usg=AOvVaw0kOdC-9L8YtaEL5LGZ9xYU\"><div class=\"kCmkOe\"><img alt=\"\" class=\"DS1iW\" src=\"https://encrypted-tbn0.gstatic.com/images?q=tbn:ANd9GcQCxW8RXXxpDCupwZYndphU-9iQu7h40BQRr9JrGdM99cmkdov9wz6x-8WtISY&amp;s\"/></div></a></td></tr><tr><td><a href=\"/url?q=https://www.aakash.ac.in/blog/a-p-j-abdul-kalam-biography-early-life-education-interest-achievements/&amp;sa=U&amp;ved=2ahUKEwjHoYrx496LAxWEwjgGHcueCVgQr4kDegQIBRAC&amp;usg=AOvVaw03t4tb_VFiSWMf5GMF82zu\"><div class=\"AlD19d\"> <span class=\"qXLe6d x3G5ab\"> <span class=\"fYyStc\">A.P.J. Abdul Kalam -...</span> </span> <span class=\"qXLe6d F9iS2e\"> <span class=\"fYyStc\">www.aakash.ac.in</span> </span> </div></a></td></tr></table></div></div> </div> </div></td><td align=\"center\" class=\"e3goi\"><div class=\"jjVJ4e\"> <div> <div class=\"lIMUZd\"><div><table class=\"RntSmf\"><tr><td><a href=\"/url?q=https://eazyarts.in/products/dr-apj-abdul-kalam-smiling-paint-by-numbers-kit&amp;sa=U&amp;ved=2ahUKEwjHoYrx496LAxWEwjgGHcueCVgQqoUBegQIAhAB&amp;usg=AOvVaw1sudhKSaPtRCNe_nkyV-U9\"><div class=\"kCmkOe\"><img alt=\"\" class=\"DS1iW\" src=\"https://encrypted-tbn0.gstatic.com/images?q=tbn:ANd9GcQ2SUvHYEANERtlwk5c7y7Ca8zIRtsovrRUbghhm94OSciBPIsIn5zMVHKLFyk&amp;s\"/></div></a></td></tr><tr><td><a href=\"/url?q=https://eazyarts.in/products/dr-apj-abdul-kalam-smiling-paint-by-numbers-kit&amp;sa=U&amp;ved=2ahUKEwjHoYrx496LAxWEwjgGHcueCVgQr4kDegQIAhAC&amp;usg=AOvVaw0aZXdPLg6mHq0nbAm_Beih\"><div class=\"AlD19d\"> <span class=\"qXLe6d x3G5ab\"> <span class=\"fYyStc\">Abdul Kalam Smiling Paint...</span> </span> <span class=\"qXLe6d F9iS2e\"> <span class=\"fYyStc\">eazyarts.in</span> </span> </div></a></td></tr></table></div></div> </div> </div></td><td align=\"center\" class=\"e3goi\"><div class=\"jjVJ4e\"> <div> <div class=\"lIMUZd\"><div><table class=\"RntSmf\"><tr><td><a href=\"/url?q=https://rajshamani.medium.com/3-lessons-students-must-learn-from-dr-a-p-j-abdul-kalam-d9545d69a8e&amp;sa=U&amp;ved=2ahUKEwjHoYrx496LAxWEwjgGHcueCVgQqoUBegQIABAB&amp;usg=AOvVaw1SZLw5InafUYcfzf1flmzk\"><div class=\"kCmkOe\"><img alt=\"\" class=\"DS1iW\" src=\"https://encrypted-tbn0.gstatic.com/images?q=tbn:ANd9GcSig7oQi2tpYEN7ZExvutfK75UczqG2sUpiGgaV1dYHbDE1dIqyPhgf_wtT5SY&amp;s\"/></div></a></td></tr><tr><td><a href=\"/url?q=https://rajshamani.medium.com/3-lessons-students-must-learn-from-dr-a-p-j-abdul-kalam-d9545d69a8e&amp;sa=U&amp;ved=2ahUKEwjHoYrx496LAxWEwjgGHcueCVgQr4kDegQIABAC&amp;usg=AOvVaw1Hz7u7nct7mOOzuDEiR3Wy\"><div class=\"AlD19d\"> <span class=\"qXLe6d x3G5ab\"> <span class=\"fYyStc\">3 Lessons Students Must...</span> </span> <span class=\"qXLe6d F9iS2e\"> <span class=\"fYyStc\">rajshamani.medium.com</span> </span> </div></a></td></tr></table></div></div> </div> </div></td></tr></table></div><table class=\"uZgmoc\"><tbody><td><a class=\"frGj1b\" href=\"/search?q=abdul+kalam&amp;sca_esv=e3144f6254eef5eb&amp;biw=1422&amp;bih=762&amp;ie=UTF-8&amp;tbm=isch&amp;ei=h7G9Z4fCIYSF4-EPy72mwAU&amp;start=20&amp;sa=N\">Next &gt;</a></td></tbody></table><br/><div class=\"TuS8Ad\" data-ved=\"0ahUKEwjHoYrx496LAxWEwjgGHcueCVgQpyoIRQ\"><style>.VYM29{font-weight:bold}</style><div align=\"center\" class=\"HddGcc\"><span class=\"VYM29\">Indore, Madhya Pradesh</span><span> - </span><span>From your IP address</span><span> - </span><a href=\"/url?q=https://support.google.com/websearch%3Fp%3Dws_settings_location%26hl%3Den-IN&amp;opi=89978449&amp;sa=U&amp;ved=0ahUKEwjHoYrx496LAxWEwjgGHcueCVgQty4IRg&amp;usg=AOvVaw3XqL6uFQ4HDsaOsRwnTzIk\">Learn more</a></div><div align=\"center\"><a class=\"rEM8G\" href=\"/url?q=https://accounts.google.com/ServiceLogin%3Fcontinue%3Dhttps://www.google.com/search%253Fq%253Dabdul%252Bkalam%2526fbs%253DABzOT_CWdhQLP1FcmU5B0fn3xuWpA-dk4wpBWOGsoR7DG5zJBjLjqIC1CYKD9D-DQAQS3Z49oR1qp-GHVCzRMbvBmBq7dvB0LfFrS0yfdVu9QC41Fa058b320_ho3Zqz2R4qGNLtRyj5J_NX0zKAMbSab9pqhrnUKhCLJukddQ9ZsM2JUfK5dsuIH9sMU_Ho8-gWDVUyMBvvvnO9zQVTUyErM3s6zCTpqg%2526sa%253DX%2526sqi%253D2%2526ved%253D2ahUKEwikxtve2d6LAxXeoGMGHR11PTsQtKgLegQIChAB%2526biw%253D1422%2526bih%253D762%2526dpr%253D1.25%2526tbm%253Disch%26hl%3Den&amp;opi=89978449&amp;sa=U&amp;ved=0ahUKEwjHoYrx496LAxWEwjgGHcueCVgQxs8CCEc&amp;usg=AOvVaw1Q-Nj4EUy9tPAfHqm1qL-p\">Sign in</a></div><div><table class=\"bookcf\"><tbody class=\"InWNIe\"><tr><td><a class=\"rEM8G\" href=\"https://www.google.com/preferences?hl=en&amp;sa=X&amp;ved=0ahUKEwjHoYrx496LAxWEwjgGHcueCVgQv5YECEg\">Settings</a></td><td><a class=\"rEM8G\" href=\"https://www.google.com/intl/en_in/policies/privacy/\">Privacy</a></td><td><a class=\"rEM8G\" href=\"https://www.google.com/intl/en_in/policies/terms/\">Terms</a></td></tr></tbody></table></div></div><div> </div></body></html>"
      ]
     },
     "execution_count": 70,
     "metadata": {},
     "output_type": "execute_result"
    }
   ],
   "source": [
    "Soup"
   ]
  },
  {
   "cell_type": "code",
   "execution_count": 71,
   "id": "8765e548-1b83-4371-b6be-c508c43889f0",
   "metadata": {},
   "outputs": [],
   "source": [
    "images_tags = Soup.find_all(\"img\")"
   ]
  },
  {
   "cell_type": "code",
   "execution_count": 72,
   "id": "8c772fcc-4640-447b-bf39-50477454c17a",
   "metadata": {},
   "outputs": [
    {
     "data": {
      "text/plain": [
       "[<img alt=\"Google\" class=\"kgJEQe\" src=\"/images/branding/searchlogo/1x/googlelogo_desk_heirloom_color_150x55dp.gif\"/>,\n",
       " <img alt=\"\" class=\"DS1iW\" src=\"https://encrypted-tbn0.gstatic.com/images?q=tbn:ANd9GcRDXRrCQ0br3vCtvoFxCGpIeQGuCUH7WfjlRdOrA5bHxxzi0_43wUxK3zRo7Ao&amp;s\"/>,\n",
       " <img alt=\"\" class=\"DS1iW\" src=\"https://encrypted-tbn0.gstatic.com/images?q=tbn:ANd9GcRPIzGFtphhj0Sm1AzNYZXe91pAlkea88NpFvVB2FQihZF4TbYdBfiWdb8-UQ&amp;s\"/>,\n",
       " <img alt=\"\" class=\"DS1iW\" src=\"https://encrypted-tbn0.gstatic.com/images?q=tbn:ANd9GcTNluG8RYbAkc9DDoEIJa5R0dW5VG9LjQdk7PDhJN6GzNTJ3zjUmrO_LodkpQ&amp;s\"/>,\n",
       " <img alt=\"\" class=\"DS1iW\" src=\"https://encrypted-tbn0.gstatic.com/images?q=tbn:ANd9GcQEOKlSNp1m5Q5vzEECkAzgZ32iVo7dKhyM27qFdd7Gk_XRr2rEMg63Qt60EVE&amp;s\"/>,\n",
       " <img alt=\"\" class=\"DS1iW\" src=\"https://encrypted-tbn0.gstatic.com/images?q=tbn:ANd9GcSIc7kqbQllG6CZiouCspe3taqlCS3FGgBilBTqBqPQSsFjdc3prke97Mk_AA&amp;s\"/>,\n",
       " <img alt=\"\" class=\"DS1iW\" src=\"https://encrypted-tbn0.gstatic.com/images?q=tbn:ANd9GcReXtERZQnXdqjWRWvoOely0JusVMYBnzkfQmtOo4KcyeX1mCC9dMqFCLnfkcw&amp;s\"/>,\n",
       " <img alt=\"\" class=\"DS1iW\" src=\"https://encrypted-tbn0.gstatic.com/images?q=tbn:ANd9GcTumc9Fkjm87t1eiuFilXTFJ4xU_aXAZlQ3vK4F1TmQZhfTY-mkmYeYJUl6abc&amp;s\"/>,\n",
       " <img alt=\"\" class=\"DS1iW\" src=\"https://encrypted-tbn0.gstatic.com/images?q=tbn:ANd9GcRmwxHSTRRio5VQ08CSZenf0XHHxbHIxOXAZNCzMg_x8RbRgifCbPsgeIKlVA&amp;s\"/>,\n",
       " <img alt=\"\" class=\"DS1iW\" src=\"https://encrypted-tbn0.gstatic.com/images?q=tbn:ANd9GcRjI2jmTAmdWDbHYA5iknUub82jRjD5XFpo3o1Oqjx5YjSyTQ3qtZxKc-hIbvo&amp;s\"/>,\n",
       " <img alt=\"\" class=\"DS1iW\" src=\"https://encrypted-tbn0.gstatic.com/images?q=tbn:ANd9GcTL6n37MEBVh31hBt9vp_P6rarW4FvUZLWWzVCqNF6s4py2gP3pWvfYgpM6wQ&amp;s\"/>,\n",
       " <img alt=\"\" class=\"DS1iW\" src=\"https://encrypted-tbn0.gstatic.com/images?q=tbn:ANd9GcTg-5KlG1TWsl-BN-kL8rIjT5soVIrCCB786XWG4npfXADL3rTQIKAEXlrFWBU&amp;s\"/>,\n",
       " <img alt=\"\" class=\"DS1iW\" src=\"https://encrypted-tbn0.gstatic.com/images?q=tbn:ANd9GcTiWH4pPKt6Ob4oRAAjO6OkU24XkZ0im6GoWszQgqyY0gTpuS-a7buU2cm2_sc&amp;s\"/>,\n",
       " <img alt=\"\" class=\"DS1iW\" src=\"https://encrypted-tbn0.gstatic.com/images?q=tbn:ANd9GcQ8dR3PaF1Gvklilj4VFj_k3fYTvi_z4VaTYmyKu8v4-7_Q-DZa7xA06GaWWg&amp;s\"/>,\n",
       " <img alt=\"\" class=\"DS1iW\" src=\"https://encrypted-tbn0.gstatic.com/images?q=tbn:ANd9GcRghHzmTebRHcmaCrdDFEfL4-zp0qqgdIu2IZpzD5Fl3-sZR5Z3XM6_fLZVlA4&amp;s\"/>,\n",
       " <img alt=\"\" class=\"DS1iW\" src=\"https://encrypted-tbn0.gstatic.com/images?q=tbn:ANd9GcTtG5B_vYebPg7WMiHyzneTWh1qYWJ6A9ipxuFa7F7dZULvtO6jRVGzI947-Q&amp;s\"/>,\n",
       " <img alt=\"\" class=\"DS1iW\" src=\"https://encrypted-tbn0.gstatic.com/images?q=tbn:ANd9GcT2xBmbgMoOUWz-NWyMFK-Ahal9AOYnl_iFdL24CFccsgNke6waZS4tuumigJs&amp;s\"/>,\n",
       " <img alt=\"\" class=\"DS1iW\" src=\"https://encrypted-tbn0.gstatic.com/images?q=tbn:ANd9GcQdvYukh94xH_VjsfseQOHMCdESr9SzZWUVi76UfXwQ5Y1hJOHlAvhfyaEYmA&amp;s\"/>,\n",
       " <img alt=\"\" class=\"DS1iW\" src=\"https://encrypted-tbn0.gstatic.com/images?q=tbn:ANd9GcQCxW8RXXxpDCupwZYndphU-9iQu7h40BQRr9JrGdM99cmkdov9wz6x-8WtISY&amp;s\"/>,\n",
       " <img alt=\"\" class=\"DS1iW\" src=\"https://encrypted-tbn0.gstatic.com/images?q=tbn:ANd9GcQ2SUvHYEANERtlwk5c7y7Ca8zIRtsovrRUbghhm94OSciBPIsIn5zMVHKLFyk&amp;s\"/>,\n",
       " <img alt=\"\" class=\"DS1iW\" src=\"https://encrypted-tbn0.gstatic.com/images?q=tbn:ANd9GcSig7oQi2tpYEN7ZExvutfK75UczqG2sUpiGgaV1dYHbDE1dIqyPhgf_wtT5SY&amp;s\"/>]"
      ]
     },
     "execution_count": 72,
     "metadata": {},
     "output_type": "execute_result"
    }
   ],
   "source": [
    "images_tags"
   ]
  },
  {
   "cell_type": "code",
   "execution_count": 75,
   "id": "be394349-4fd2-44be-b643-a23a849ab93d",
   "metadata": {},
   "outputs": [
    {
     "data": {
      "text/plain": [
       "21"
      ]
     },
     "execution_count": 75,
     "metadata": {},
     "output_type": "execute_result"
    }
   ],
   "source": [
    "len(images_tags)"
   ]
  },
  {
   "cell_type": "code",
   "execution_count": 81,
   "id": "6e85b284-2085-4981-8aa6-62d9f2ff3677",
   "metadata": {},
   "outputs": [],
   "source": [
    "del images_tags[0]"
   ]
  },
  {
   "cell_type": "code",
   "execution_count": 83,
   "id": "fe6da68a-c439-4f5a-b593-4432596fcd46",
   "metadata": {},
   "outputs": [],
   "source": [
    "img_data_mongo = []\n",
    "\n",
    "for i in images_tags:\n",
    "    image_url = i['src']\n",
    "    image_data = requests.get(image_url).content\n",
    "    mydict = {\"index\":image_url,\"image\":image_data}\n",
    "    img_data_mongo.append(mydict)\n",
    "    with open(os.path.join(save_dir,f\"{query}_{images_tags.index(i)}.jpg\"),\"wb\") as f:\n",
    "        f.write(image_data)"
   ]
  },
  {
   "cell_type": "code",
   "execution_count": null,
   "id": "053f4581-722c-4eab-ba35-f87949148e87",
   "metadata": {},
   "outputs": [],
   "source": []
  },
  {
   "cell_type": "code",
   "execution_count": null,
   "id": "590ee795-27b1-47d8-9b59-df4b2be6a131",
   "metadata": {},
   "outputs": [],
   "source": []
  },
  {
   "cell_type": "code",
   "execution_count": null,
   "id": "316c7820-e7d0-45b2-9b8f-15516d05af4b",
   "metadata": {},
   "outputs": [],
   "source": []
  }
 ],
 "metadata": {
  "kernelspec": {
   "display_name": "Python 3 (ipykernel)",
   "language": "python",
   "name": "python3"
  },
  "language_info": {
   "codemirror_mode": {
    "name": "ipython",
    "version": 3
   },
   "file_extension": ".py",
   "mimetype": "text/x-python",
   "name": "python",
   "nbconvert_exporter": "python",
   "pygments_lexer": "ipython3",
   "version": "3.12.7"
  }
 },
 "nbformat": 4,
 "nbformat_minor": 5
}
